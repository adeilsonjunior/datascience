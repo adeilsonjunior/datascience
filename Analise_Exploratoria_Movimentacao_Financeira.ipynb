{
  "nbformat": 4,
  "nbformat_minor": 0,
  "metadata": {
    "colab": {
      "name": "Analise_Exploratoria_Movimentacao_Financeira.ipynb",
      "provenance": [],
      "toc_visible": true,
      "authorship_tag": "ABX9TyMLm+oOywjq+Aei8+SwVAyZ",
      "include_colab_link": true
    },
    "kernelspec": {
      "name": "python3",
      "display_name": "Python 3"
    }
  },
  "cells": [
    {
      "cell_type": "markdown",
      "metadata": {
        "id": "view-in-github",
        "colab_type": "text"
      },
      "source": [
        "<a href=\"https://colab.research.google.com/github/adeilsonjunior/datascience/blob/main/Analise_Exploratoria_Movimentacao_Financeira.ipynb\" target=\"_parent\"><img src=\"https://colab.research.google.com/assets/colab-badge.svg\" alt=\"Open In Colab\"/></a>"
      ]
    },
    {
      "cell_type": "markdown",
      "metadata": {
        "id": "ddB_mFQpHD79"
      },
      "source": [
        "### **Análise exploratória - movimentação financeira utilizando pandas**"
      ]
    },
    {
      "cell_type": "code",
      "metadata": {
        "id": "RCjODp-BHXKf"
      },
      "source": [
        "# importando o arquivo excel\r\n",
        "import pandas as pd\r\n",
        "pd.read_excel('sample_data/movimentacao_financeira.xlsx')"
      ],
      "execution_count": null,
      "outputs": []
    },
    {
      "cell_type": "code",
      "metadata": {
        "id": "L1CtjAhoHqt_"
      },
      "source": [
        ""
      ],
      "execution_count": null,
      "outputs": []
    }
  ]
}